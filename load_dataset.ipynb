{
 "cells": [
  {
   "cell_type": "code",
   "execution_count": 6,
   "metadata": {},
   "outputs": [
    {
     "name": "stdout",
     "output_type": "stream",
     "text": [
      "The autoreload extension is already loaded. To reload it, use:\n",
      "  %reload_ext autoreload\n"
     ]
    }
   ],
   "source": [
    "%load_ext autoreload \n",
    "%autoreload 2\n",
    "\n",
    "import pandas as pd \n",
    "\n",
    "df = pd.read_table(\"./ds_filtered.tsv\")"
   ]
  },
  {
   "cell_type": "code",
   "execution_count": 14,
   "metadata": {},
   "outputs": [
    {
     "name": "stdout",
     "output_type": "stream",
     "text": [
      "['B*08:01' 'A*02:01' 'B*35:08' 'E*01:01' 'B*35:42' 'B*57:06' 'B*44:05'\n",
      " 'A*24:02' 'B*27:05' 'B*51:193' 'A*01:01' 'A*11:01' 'B*07:02' 'B*35:01'\n",
      " 'B*37:01' 'A*02:06' 'C*08:02' 'A*03:01' 'B*51:01' 'C*03:03' 'A*30:02'\n",
      " 'B*15:01' 'B*12:01' 'B*07:01' 'A*29:02' 'B*44:03' 'A*68:01' 'B*44:02'\n",
      " 'B*40:01' 'C*03:04' 'B*18:01' 'C*06:02' 'C*05:01' 'C*07:01' 'B*38:01'\n",
      " 'C*14:02' 'A*25:01' 'A*24:01' 'A*01:1' 'B*57:01' 'B*57:03' 'E*01:03'\n",
      " 'C*01:02']\n"
     ]
    }
   ],
   "source": [
    "all_mhc = df[\"mhc\"].unique()\n",
    "print(all_mhc)\n"
   ]
  },
  {
   "cell_type": "code",
   "execution_count": 15,
   "metadata": {},
   "outputs": [
    {
     "data": {
      "text/plain": [
       "43"
      ]
     },
     "execution_count": 15,
     "metadata": {},
     "output_type": "execute_result"
    }
   ],
   "source": [
    "len(all_mhc)"
   ]
  },
  {
   "cell_type": "code",
   "execution_count": 16,
   "metadata": {},
   "outputs": [
    {
     "name": "stdout",
     "output_type": "stream",
     "text": [
      "39 4\n"
     ]
    }
   ],
   "source": [
    "# get all that failed \n",
    "from tcrdock.sequtil import get_mhc_class_1_alseq\n",
    "from typing import List\n",
    "def dryrun(\n",
    "    alleles: List[str], \n",
    "):\n",
    "    success = []\n",
    "    failed = []\n",
    "    for allele in alleles:\n",
    "        seq = get_mhc_class_1_alseq(allele)\n",
    "        if seq is not None:\n",
    "            success.append(allele)\n",
    "        else:\n",
    "            failed.append(allele)\n",
    "    return success, failed\n",
    "        \n",
    "success, failed = dryrun(all_mhc)\n",
    "print(len(success), len(failed))"
   ]
  },
  {
   "cell_type": "code",
   "execution_count": 12,
   "metadata": {},
   "outputs": [
    {
     "data": {
      "text/plain": [
       "['B*08:01',\n",
       " 'A*02:01',\n",
       " 'B*35:08',\n",
       " 'E*01:01',\n",
       " 'B*35:42',\n",
       " 'B*57:06',\n",
       " 'B*44:05',\n",
       " 'A*24:02',\n",
       " 'B*27:05',\n",
       " 'B*51:193',\n",
       " 'A*01:01',\n",
       " 'A*11:01',\n",
       " 'B*07:02',\n",
       " 'B*35:01',\n",
       " 'B*37:01',\n",
       " 'A*02:06',\n",
       " 'C*08:02',\n",
       " 'A*03:01',\n",
       " 'B*51:01',\n",
       " 'C*03:03',\n",
       " 'A*30:02',\n",
       " 'B*15:01',\n",
       " 'A*29:02',\n",
       " 'B*44:03',\n",
       " 'A*68:01',\n",
       " 'B*44:02',\n",
       " 'B*40:01',\n",
       " 'C*03:04',\n",
       " 'B*18:01',\n",
       " 'C*06:02',\n",
       " 'C*05:01',\n",
       " 'C*07:01',\n",
       " 'B*38:01',\n",
       " 'C*14:02',\n",
       " 'A*25:01',\n",
       " 'B*57:01',\n",
       " 'B*57:03',\n",
       " 'E*01:03',\n",
       " 'C*01:02']"
      ]
     },
     "execution_count": 12,
     "metadata": {},
     "output_type": "execute_result"
    }
   ],
   "source": [
    "success"
   ]
  },
  {
   "cell_type": "code",
   "execution_count": 17,
   "metadata": {},
   "outputs": [
    {
     "data": {
      "text/plain": [
       "['B*12:01', 'B*07:01', 'A*24:01', 'A*01:1']"
      ]
     },
     "execution_count": 17,
     "metadata": {},
     "output_type": "execute_result"
    }
   ],
   "source": [
    "failed"
   ]
  }
 ],
 "metadata": {
  "kernelspec": {
   "display_name": "tcrdock_test",
   "language": "python",
   "name": "python3"
  },
  "language_info": {
   "codemirror_mode": {
    "name": "ipython",
    "version": 3
   },
   "file_extension": ".py",
   "mimetype": "text/x-python",
   "name": "python",
   "nbconvert_exporter": "python",
   "pygments_lexer": "ipython3",
   "version": "3.8.19"
  }
 },
 "nbformat": 4,
 "nbformat_minor": 2
}
